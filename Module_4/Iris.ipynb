{
 "cells": [
  {
   "cell_type": "code",
   "execution_count": null,
   "id": "4c85d510-2466-43ee-81de-003e5157f861",
   "metadata": {},
   "outputs": [],
   "source": [
    "from sklearn.datasets import load_iris \n",
    "import numpy as np\n",
    "import pandas as pd\n",
    "iris=load_iris()\n",
    "iris_df = pd.DataFrame(\n",
    "    iris['data'], columns=iris['feature_names']\n",
    ").assign(Species=iris['target_names'][iris['target']])\n",
    "df.isnull().sum()\n"
   ]
  },
  {
   "cell_type": "code",
   "execution_count": null,
   "id": "ea1f6fc1-0641-428c-9b4c-f5938febc69a",
   "metadata": {},
   "outputs": [],
   "source": [
    "len(iris_df)\n",
    "print(iris_df)\n"
   ]
  },
  {
   "cell_type": "code",
   "execution_count": null,
   "id": "fef152cd-6574-4c32-b6c6-0cf10528fe47",
   "metadata": {},
   "outputs": [],
   "source": [
    "iris_df['sepal length (cm)']"
   ]
  },
  {
   "cell_type": "code",
   "execution_count": null,
   "id": "6b758336-711e-48f2-98c6-b5c33740f3b9",
   "metadata": {},
   "outputs": [],
   "source": [
    "iris_df.rename(columns={'sepal length (cm)':'sepal length', 'sepal width (cm)':'sepal width', 'petal length (cm)':'petal length', 'petal width (cm)':'petal width'})"
   ]
  },
  {
   "cell_type": "code",
   "execution_count": null,
   "id": "1f09b051-1918-4347-b5a4-df191bce10e4",
   "metadata": {},
   "outputs": [],
   "source": []
  }
 ],
 "metadata": {
  "kernelspec": {
   "display_name": "Python 3 (ipykernel)",
   "language": "python",
   "name": "python3"
  },
  "language_info": {
   "codemirror_mode": {
    "name": "ipython",
    "version": 3
   },
   "file_extension": ".py",
   "mimetype": "text/x-python",
   "name": "python",
   "nbconvert_exporter": "python",
   "pygments_lexer": "ipython3",
   "version": "3.9.13"
  }
 },
 "nbformat": 4,
 "nbformat_minor": 5
}
