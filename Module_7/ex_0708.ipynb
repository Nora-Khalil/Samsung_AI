{
 "cells": [
  {
   "cell_type": "markdown",
   "metadata": {},
   "source": [
    "## Coding Exercise #0708"
   ]
  },
  {
   "cell_type": "code",
   "execution_count": null,
   "metadata": {},
   "outputs": [],
   "source": [
    "# Install WordCloud once.\n",
    "# !pip install wordcloud"
   ]
  },
  {
   "cell_type": "code",
   "execution_count": null,
   "metadata": {},
   "outputs": [],
   "source": [
    "from wordcloud import WordCloud\n",
    "import numpy as np\n",
    "import nltk\n",
    "import re\n",
    "import os\n",
    "import matplotlib.pyplot as plt\n",
    "from PIL import Image                         # From the Pillow library import the Image module.\n",
    "from nltk.stem import WordNetLemmatizer\n",
    "from nltk.corpus import stopwords\n",
    "%matplotlib inline"
   ]
  },
  {
   "cell_type": "markdown",
   "metadata": {},
   "source": [
    "### 1. Visualize the text data as a WordCloud:"
   ]
  },
  {
   "cell_type": "code",
   "execution_count": null,
   "metadata": {},
   "outputs": [],
   "source": [
    "# Go to the directory where the data file is located. \n",
    "# os.chdir(r'~~')                # Please, replace the path with your own.   "
   ]
  },
  {
   "cell_type": "code",
   "execution_count": null,
   "metadata": {},
   "outputs": [],
   "source": [
    "f = open(\"./three_little_pigs.txt\",'r',encoding='UTF8')\n",
    "my_book = f.readlines()\n",
    "f.close()"
   ]
  },
  {
   "cell_type": "markdown",
   "metadata": {},
   "source": [
    "#### 1.1. Pre-processing:"
   ]
  },
  {
   "cell_type": "code",
   "execution_count": null,
   "metadata": {},
   "outputs": [],
   "source": [
    "n_min = 4                                                           # Minimum number of characters. \n",
    "corpus = []\n",
    "lemmatizer = WordNetLemmatizer()\n",
    "for a_line in my_book:\n",
    "    pre = re.sub(r'\\W', ' ', a_line)                                # Substitute the non-alphanumerics character by space.\n",
    "    pre = re.sub(r'\\d+','', pre)                                    # Remove numbers.\n",
    "    pre = nltk.word_tokenize(pre)                                   # Tokenize into words.\n",
    "    pre = [x for x in pre if len(x) > n_min]                        # Minimum length.\n",
    "    pre = [x.lower() for x in pre]                                  # Convert into the lowercase.\n",
    "    pre = [x for x in pre if x not in stopwords.words('english')]   # Remove stopwords.\n",
    "    pre = [lemmatizer.lemmatize(x) for x in pre]                    # Lemmatize.\n",
    "    corpus += pre                                                   # Back to the corpus."
   ]
  },
  {
   "cell_type": "code",
   "execution_count": null,
   "metadata": {},
   "outputs": [],
   "source": [
    "len(corpus)"
   ]
  },
  {
   "cell_type": "markdown",
   "metadata": {},
   "source": [
    "#### 1.2. Generate a basic wordcloud:"
   ]
  },
  {
   "cell_type": "code",
   "execution_count": null,
   "metadata": {},
   "outputs": [],
   "source": [
    "# WordCloud requires that the imput data be a single long string.\n",
    "a_long_sentence = ' '.join(corpus)"
   ]
  },
  {
   "cell_type": "code",
   "execution_count": null,
   "metadata": {},
   "outputs": [],
   "source": [
    "wc = WordCloud(background_color='white', max_words=30)              # Customize the output.\n",
    "wc.generate(a_long_sentence)\n",
    "# wc.words_                                                          # Check for the top ranking words.                                                         "
   ]
  },
  {
   "cell_type": "code",
   "execution_count": null,
   "metadata": {},
   "outputs": [],
   "source": [
    "plt.figure(figsize=(10,10))\n",
    "plt.imshow(wc, interpolation='bilinear')\n",
    "plt.axis(\"off\")                                    # Turn off the axes.\n",
    "plt.show()"
   ]
  },
  {
   "cell_type": "markdown",
   "metadata": {},
   "source": [
    "#### 1.3. Generate wordcloud using a mask:"
   ]
  },
  {
   "cell_type": "code",
   "execution_count": null,
   "metadata": {},
   "outputs": [],
   "source": [
    "# Pick a background mask.\n",
    "#img = Image.open('background_1.png')                    # Elipse.\n",
    "#img = Image.open('background_2.png')                   # Speech bubble.\n",
    "#img = Image.open('background_3.png')                    # Heart.\n",
    "img = Image.open('map.jpeg')                    # Circle.\n",
    "back_mask = np.array(img)"
   ]
  },
  {
   "cell_type": "code",
   "execution_count": null,
   "metadata": {},
   "outputs": [],
   "source": [
    "wc = WordCloud(background_color='white', max_words=30, mask=back_mask)            # Customize the output. \n",
    "wc.generate(a_long_sentence) "
   ]
  },
  {
   "cell_type": "code",
   "execution_count": null,
   "metadata": {},
   "outputs": [],
   "source": [
    "plt.figure(figsize=(10,10))\n",
    "plt.imshow(wc, interpolation='bilinear')\n",
    "plt.axis(\"off\")                                    # Turn off the axes.\n",
    "plt.savefig(\"out.png\")                             # Save to an external file.  \n",
    "plt.show()"
   ]
  },
  {
   "cell_type": "code",
   "execution_count": null,
   "metadata": {},
   "outputs": [],
   "source": [
    "mask = np.array(Image.open('map.jpeg'))\n",
    "wc = WordCloud(mask=mask, background_color=\"white\",\n",
    "               max_words=2000, max_font_size=256,\n",
    "               random_state=42, width=mask.shape[1],\n",
    "               height=mask.shape[0])\n",
    "wc.generate(a_long_sentence)\n",
    "plt.imshow(wc, interpolation=\"bilinear\")\n",
    "plt.axis('off')\n",
    "plt.show()"
   ]
  },
  {
   "cell_type": "code",
   "execution_count": null,
   "metadata": {},
   "outputs": [],
   "source": []
  }
 ],
 "metadata": {
  "kernelspec": {
   "display_name": "Python 3 (ipykernel)",
   "language": "python",
   "name": "python3"
  },
  "language_info": {
   "codemirror_mode": {
    "name": "ipython",
    "version": 3
   },
   "file_extension": ".py",
   "mimetype": "text/x-python",
   "name": "python",
   "nbconvert_exporter": "python",
   "pygments_lexer": "ipython3",
   "version": "3.9.13"
  }
 },
 "nbformat": 4,
 "nbformat_minor": 4
}
